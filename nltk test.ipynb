{
 "cells": [
  {
   "cell_type": "code",
   "execution_count": 1,
   "metadata": {},
   "outputs": [],
   "source": [
    "import nltk"
   ]
  },
  {
   "cell_type": "code",
   "execution_count": 12,
   "metadata": {},
   "outputs": [],
   "source": [
    "from nltk.corpus import stopwords\n",
    "from nltk.tokenize import sent_tokenize, word_tokenize"
   ]
  },
  {
   "cell_type": "markdown",
   "metadata": {},
   "source": [
    "# Process text file"
   ]
  },
  {
   "cell_type": "code",
   "execution_count": 8,
   "metadata": {},
   "outputs": [],
   "source": [
    "text_file = open(\"./text-summarizer/test-article.txt\", \"r\")"
   ]
  },
  {
   "cell_type": "code",
   "execution_count": 9,
   "metadata": {},
   "outputs": [],
   "source": [
    "text = \"\"\n",
    "for line in text_file.readlines():\n",
    "    text += line"
   ]
  },
  {
   "cell_type": "code",
   "execution_count": 10,
   "metadata": {},
   "outputs": [
    {
     "name": "stdout",
     "output_type": "stream",
     "text": [
      "Not even Donald Trump, the great twister of truth, could keep reality at bay forever.\n",
      "\n",
      "After nearly three weeks of his absurd legal claims and corrosive attacks on democracy, a cascade of momentous developments Monday obliterated the President's fantasy that he would have a second term.\n",
      "In the most significant and symbolic sign that it's over for Trump, General Services Administrator Emily Murphy, heeding the inevitability of constitutional processes, finally switched on the administrative machinery that will formally transfer power to President-elect Joe Biden.\n",
      "The legally mandated transition will unblock millions of dollars in funding and compel the administration to grant access and briefings to the President-elect's incoming team. Most importantly, it will allow Biden's representatives to huddle with government health officials to learn how best to escalate the effort to tackle the Covid-19 disaster that is ravaging the nation.\n",
      "Yet even before Murphy's belated move, Biden had engineered a tangible shift in implied power from the current administration to the next, unveiling a slew of high-profile Cabinet appointments. In the process, he turned his White House from a theoretical proposition into a tangible glimpse of the policies and leadership style that will set America's course from January 20 next year.\n",
      "Biden's choices, including longtime aide Antony Blinken as secretary of state, signaled that the President-elect plans an era of serious, unostentatious governance after years of Trump's dictates by tweets and a Cabinet assembled from appointees who can be relied upon to pay him homage. Biden also plans to pick former Federal Reserve Chair Janet Yellen as treasury secretary, according to two sources familiar with his plans.\n",
      "Trump offered his clearest indication yet that he understands his presidency is ending when he tweeted that he had told his team to do what is necessary \"with regards to initial protocols.\" Yet given his past behavior, repeated denials of his defeat and attempts to shatter Biden's legitimacy, there will be serious questions over whether Trump will fully cooperate with the transition.\n",
      "His remaining two months in office, during which he will retain the institutional power of the presidency, leave him plenty of time to try to sabotage Biden's administration.\n",
      "Still, Trump's outrageous bid to disenfranchise the votes of millions of Americans is destined to fail because election officials and the courts in the states largely did their duty and rejected his baseless claims of fraud. During the President's most dangerous attack on the institutions of the US political system, the center held.\n"
     ]
    }
   ],
   "source": [
    "print(text)"
   ]
  },
  {
   "cell_type": "markdown",
   "metadata": {},
   "source": [
    "## Preprocessing"
   ]
  },
  {
   "cell_type": "code",
   "execution_count": 16,
   "metadata": {},
   "outputs": [],
   "source": [
    "stop_words = set(stopwords.words('english'))\n",
    "tokenized_sentences = sent_tokenize(text)\n",
    "tokenized_words = word_tokenize(text)"
   ]
  },
  {
   "cell_type": "code",
   "execution_count": 29,
   "metadata": {},
   "outputs": [],
   "source": [
    "def get_word_freq_dict():\n",
    "    result = {}\n",
    "    for word in tokenized_words:\n",
    "        lower_case_word = word.lower()\n",
    "        if lower_case_word not in stop_words:\n",
    "            if lower_case_word not in result.keys() or result[lower_case_word] is None:\n",
    "                result[lower_case_word] = 0\n",
    "            result[lower_case_word] += 1\n",
    "    return result\n",
    "\n",
    "def normalize_word_freq(word_freq):\n",
    "    normalized = {}\n",
    "    largest_count = max(word_freq.values())\n",
    "    for word, count in word_freq.items():\n",
    "        normalized[word] = count / largest_count\n",
    "    return normalized"
   ]
  },
  {
   "cell_type": "code",
   "execution_count": 30,
   "metadata": {},
   "outputs": [],
   "source": [
    "word_freq_count = get_word_freq_dict()\n",
    "normalized_word_freq_count = normalize_word_freq(word_freq_count)"
   ]
  },
  {
   "cell_type": "code",
   "execution_count": 31,
   "metadata": {},
   "outputs": [
    {
     "name": "stdout",
     "output_type": "stream",
     "text": [
      "{'even': 0.1, 'donald': 0.05, 'trump': 0.3, ',': 1.0, 'great': 0.05, 'twister': 0.05, 'truth': 0.05, 'could': 0.05, 'keep': 0.05, 'reality': 0.05, 'bay': 0.05, 'forever': 0.05, '.': 0.7, 'nearly': 0.05, 'three': 0.05, 'weeks': 0.05, 'absurd': 0.05, 'legal': 0.05, 'claims': 0.1, 'corrosive': 0.05, 'attacks': 0.05, 'democracy': 0.05, 'cascade': 0.05, 'momentous': 0.05, 'developments': 0.05, 'monday': 0.05, 'obliterated': 0.05, 'president': 0.1, \"'s\": 0.6, 'fantasy': 0.05, 'would': 0.05, 'second': 0.05, 'term': 0.05, 'significant': 0.05, 'symbolic': 0.05, 'sign': 0.05, 'general': 0.05, 'services': 0.05, 'administrator': 0.05, 'emily': 0.05, 'murphy': 0.1, 'heeding': 0.05, 'inevitability': 0.05, 'constitutional': 0.05, 'processes': 0.05, 'finally': 0.05, 'switched': 0.05, 'administrative': 0.05, 'machinery': 0.05, 'formally': 0.05, 'transfer': 0.05, 'power': 0.15, 'president-elect': 0.15, 'joe': 0.05, 'biden': 0.35, 'legally': 0.05, 'mandated': 0.05, 'transition': 0.1, 'unblock': 0.05, 'millions': 0.1, 'dollars': 0.05, 'funding': 0.05, 'compel': 0.05, 'administration': 0.15, 'grant': 0.05, 'access': 0.05, 'briefings': 0.05, 'incoming': 0.05, 'team': 0.1, 'importantly': 0.05, 'allow': 0.05, 'representatives': 0.05, 'huddle': 0.05, 'government': 0.05, 'health': 0.05, 'officials': 0.1, 'learn': 0.05, 'best': 0.05, 'escalate': 0.05, 'effort': 0.05, 'tackle': 0.05, 'covid-19': 0.05, 'disaster': 0.05, 'ravaging': 0.05, 'nation': 0.05, 'yet': 0.15, 'belated': 0.05, 'move': 0.05, 'engineered': 0.05, 'tangible': 0.1, 'shift': 0.05, 'implied': 0.05, 'current': 0.05, 'next': 0.1, 'unveiling': 0.05, 'slew': 0.05, 'high-profile': 0.05, 'cabinet': 0.1, 'appointments': 0.05, 'process': 0.05, 'turned': 0.05, 'white': 0.05, 'house': 0.05, 'theoretical': 0.05, 'proposition': 0.05, 'glimpse': 0.05, 'policies': 0.05, 'leadership': 0.05, 'style': 0.05, 'set': 0.05, 'america': 0.05, 'course': 0.05, 'january': 0.05, '20': 0.05, 'year': 0.05, 'choices': 0.05, 'including': 0.05, 'longtime': 0.05, 'aide': 0.05, 'antony': 0.05, 'blinken': 0.05, 'secretary': 0.1, 'state': 0.05, 'signaled': 0.05, 'plans': 0.15, 'era': 0.05, 'serious': 0.1, 'unostentatious': 0.05, 'governance': 0.05, 'years': 0.05, 'dictates': 0.05, 'tweets': 0.05, 'assembled': 0.05, 'appointees': 0.05, 'relied': 0.05, 'upon': 0.05, 'pay': 0.05, 'homage': 0.05, 'also': 0.05, 'pick': 0.05, 'former': 0.05, 'federal': 0.05, 'reserve': 0.05, 'chair': 0.05, 'janet': 0.05, 'yellen': 0.05, 'treasury': 0.05, 'according': 0.05, 'two': 0.1, 'sources': 0.05, 'familiar': 0.05, 'offered': 0.05, 'clearest': 0.05, 'indication': 0.05, 'understands': 0.05, 'presidency': 0.1, 'ending': 0.05, 'tweeted': 0.05, 'told': 0.05, 'necessary': 0.05, '``': 0.05, 'regards': 0.05, 'initial': 0.05, 'protocols': 0.05, \"''\": 0.05, 'given': 0.05, 'past': 0.05, 'behavior': 0.05, 'repeated': 0.05, 'denials': 0.05, 'defeat': 0.05, 'attempts': 0.05, 'shatter': 0.05, 'legitimacy': 0.05, 'questions': 0.05, 'whether': 0.05, 'fully': 0.05, 'cooperate': 0.05, 'remaining': 0.05, 'months': 0.05, 'office': 0.05, 'retain': 0.05, 'institutional': 0.05, 'leave': 0.05, 'plenty': 0.05, 'time': 0.05, 'try': 0.05, 'sabotage': 0.05, 'still': 0.05, 'outrageous': 0.05, 'bid': 0.05, 'disenfranchise': 0.05, 'votes': 0.05, 'americans': 0.05, 'destined': 0.05, 'fail': 0.05, 'election': 0.05, 'courts': 0.05, 'states': 0.05, 'largely': 0.05, 'duty': 0.05, 'rejected': 0.05, 'baseless': 0.05, 'fraud': 0.05, 'dangerous': 0.05, 'attack': 0.05, 'institutions': 0.05, 'us': 0.05, 'political': 0.05, 'system': 0.05, 'center': 0.05, 'held': 0.05}\n"
     ]
    }
   ],
   "source": [
    "print(normalized_word_freq_count)"
   ]
  },
  {
   "cell_type": "code",
   "execution_count": null,
   "metadata": {},
   "outputs": [],
   "source": []
  }
 ],
 "metadata": {
  "kernelspec": {
   "display_name": "Python 3",
   "language": "python",
   "name": "python3"
  },
  "language_info": {
   "codemirror_mode": {
    "name": "ipython",
    "version": 3
   },
   "file_extension": ".py",
   "mimetype": "text/x-python",
   "name": "python",
   "nbconvert_exporter": "python",
   "pygments_lexer": "ipython3",
   "version": "3.7.4"
  }
 },
 "nbformat": 4,
 "nbformat_minor": 2
}
