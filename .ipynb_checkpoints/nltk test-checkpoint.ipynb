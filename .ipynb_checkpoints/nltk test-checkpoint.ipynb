{
 "cells": [
  {
   "cell_type": "code",
   "execution_count": 1,
   "metadata": {},
   "outputs": [],
   "source": [
    "import nltk"
   ]
  },
  {
   "cell_type": "code",
   "execution_count": 2,
   "metadata": {},
   "outputs": [],
   "source": [
    "from nltk.corpus import stopwords"
   ]
  },
  {
   "cell_type": "markdown",
   "metadata": {},
   "source": [
    "# Process text file"
   ]
  },
  {
   "cell_type": "code",
   "execution_count": 8,
   "metadata": {},
   "outputs": [],
   "source": [
    "text_file = open(\"./text-summarizer/test-article.txt\", \"r\")"
   ]
  },
  {
   "cell_type": "code",
   "execution_count": 9,
   "metadata": {},
   "outputs": [],
   "source": [
    "text = \"\"\n",
    "for line in text_file.readlines():\n",
    "    text += line"
   ]
  },
  {
   "cell_type": "code",
   "execution_count": 10,
   "metadata": {},
   "outputs": [
    {
     "name": "stdout",
     "output_type": "stream",
     "text": [
      "Not even Donald Trump, the great twister of truth, could keep reality at bay forever.\n",
      "\n",
      "After nearly three weeks of his absurd legal claims and corrosive attacks on democracy, a cascade of momentous developments Monday obliterated the President's fantasy that he would have a second term.\n",
      "In the most significant and symbolic sign that it's over for Trump, General Services Administrator Emily Murphy, heeding the inevitability of constitutional processes, finally switched on the administrative machinery that will formally transfer power to President-elect Joe Biden.\n",
      "The legally mandated transition will unblock millions of dollars in funding and compel the administration to grant access and briefings to the President-elect's incoming team. Most importantly, it will allow Biden's representatives to huddle with government health officials to learn how best to escalate the effort to tackle the Covid-19 disaster that is ravaging the nation.\n",
      "Yet even before Murphy's belated move, Biden had engineered a tangible shift in implied power from the current administration to the next, unveiling a slew of high-profile Cabinet appointments. In the process, he turned his White House from a theoretical proposition into a tangible glimpse of the policies and leadership style that will set America's course from January 20 next year.\n",
      "Biden's choices, including longtime aide Antony Blinken as secretary of state, signaled that the President-elect plans an era of serious, unostentatious governance after years of Trump's dictates by tweets and a Cabinet assembled from appointees who can be relied upon to pay him homage. Biden also plans to pick former Federal Reserve Chair Janet Yellen as treasury secretary, according to two sources familiar with his plans.\n",
      "Trump offered his clearest indication yet that he understands his presidency is ending when he tweeted that he had told his team to do what is necessary \"with regards to initial protocols.\" Yet given his past behavior, repeated denials of his defeat and attempts to shatter Biden's legitimacy, there will be serious questions over whether Trump will fully cooperate with the transition.\n",
      "His remaining two months in office, during which he will retain the institutional power of the presidency, leave him plenty of time to try to sabotage Biden's administration.\n",
      "Still, Trump's outrageous bid to disenfranchise the votes of millions of Americans is destined to fail because election officials and the courts in the states largely did their duty and rejected his baseless claims of fraud. During the President's most dangerous attack on the institutions of the US political system, the center held.\n"
     ]
    }
   ],
   "source": [
    "print(text)"
   ]
  },
  {
   "cell_type": "markdown",
   "metadata": {},
   "source": [
    "## Remove stopwords"
   ]
  },
  {
   "cell_type": "code",
   "execution_count": null,
   "metadata": {},
   "outputs": [],
   "source": [
    "stop_words = stopwords.words('english')"
   ]
  }
 ],
 "metadata": {
  "kernelspec": {
   "display_name": "Python 3",
   "language": "python",
   "name": "python3"
  },
  "language_info": {
   "codemirror_mode": {
    "name": "ipython",
    "version": 3
   },
   "file_extension": ".py",
   "mimetype": "text/x-python",
   "name": "python",
   "nbconvert_exporter": "python",
   "pygments_lexer": "ipython3",
   "version": "3.7.4"
  }
 },
 "nbformat": 4,
 "nbformat_minor": 2
}
