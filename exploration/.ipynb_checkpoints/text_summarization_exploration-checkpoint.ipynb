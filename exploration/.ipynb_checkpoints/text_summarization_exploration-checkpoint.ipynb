{
 "cells": [
  {
   "cell_type": "code",
   "execution_count": 1,
   "metadata": {},
   "outputs": [],
   "source": [
    "import nltk"
   ]
  },
  {
   "cell_type": "code",
   "execution_count": 2,
   "metadata": {},
   "outputs": [],
   "source": [
    "from nltk.corpus import stopwords\n",
    "from nltk.tokenize import sent_tokenize, word_tokenize"
   ]
  },
  {
   "cell_type": "markdown",
   "metadata": {},
   "source": [
    "# Process text file"
   ]
  },
  {
   "cell_type": "code",
   "execution_count": 3,
   "metadata": {},
   "outputs": [],
   "source": [
    "text_file = open(\"./test-article.txt\", \"r\")"
   ]
  },
  {
   "cell_type": "code",
   "execution_count": 4,
   "metadata": {},
   "outputs": [],
   "source": [
    "text = \"\"\n",
    "for line in text_file.readlines():\n",
    "    text += line"
   ]
  },
  {
   "cell_type": "code",
   "execution_count": 5,
   "metadata": {},
   "outputs": [
    {
     "name": "stdout",
     "output_type": "stream",
     "text": [
      "Not even Donald Trump, the great twister of truth, could keep reality at bay forever.\n",
      "\n",
      "After nearly three weeks of his absurd legal claims and corrosive attacks on democracy, a cascade of momentous developments Monday obliterated the President's fantasy that he would have a second term.\n",
      "In the most significant and symbolic sign that it's over for Trump, General Services Administrator Emily Murphy, heeding the inevitability of constitutional processes, finally switched on the administrative machinery that will formally transfer power to President-elect Joe Biden.\n",
      "The legally mandated transition will unblock millions of dollars in funding and compel the administration to grant access and briefings to the President-elect's incoming team. Most importantly, it will allow Biden's representatives to huddle with government health officials to learn how best to escalate the effort to tackle the Covid-19 disaster that is ravaging the nation.\n",
      "Yet even before Murphy's belated move, Biden had engineered a tangible shift in implied power from the current administration to the next, unveiling a slew of high-profile Cabinet appointments. In the process, he turned his White House from a theoretical proposition into a tangible glimpse of the policies and leadership style that will set America's course from January 20 next year.\n",
      "Biden's choices, including longtime aide Antony Blinken as secretary of state, signaled that the President-elect plans an era of serious, unostentatious governance after years of Trump's dictates by tweets and a Cabinet assembled from appointees who can be relied upon to pay him homage. Biden also plans to pick former Federal Reserve Chair Janet Yellen as treasury secretary, according to two sources familiar with his plans.\n",
      "Trump offered his clearest indication yet that he understands his presidency is ending when he tweeted that he had told his team to do what is necessary \"with regards to initial protocols.\" Yet given his past behavior, repeated denials of his defeat and attempts to shatter Biden's legitimacy, there will be serious questions over whether Trump will fully cooperate with the transition.\n",
      "His remaining two months in office, during which he will retain the institutional power of the presidency, leave him plenty of time to try to sabotage Biden's administration.\n",
      "Still, Trump's outrageous bid to disenfranchise the votes of millions of Americans is destined to fail because election officials and the courts in the states largely did their duty and rejected his baseless claims of fraud. During the President's most dangerous attack on the institutions of the US political system, the center held.\n"
     ]
    }
   ],
   "source": [
    "print(text)"
   ]
  },
  {
   "cell_type": "markdown",
   "metadata": {},
   "source": [
    "## Preprocessing"
   ]
  },
  {
   "cell_type": "code",
   "execution_count": 6,
   "metadata": {},
   "outputs": [
    {
     "name": "stdout",
     "output_type": "stream",
     "text": [
      "{\"you'd\", 'she', \"she's\", 'mightn', \"that'll\", 're', 'those', 'while', 'themselves', \"weren't\", 'once', 'mustn', 'hasn', 'only', 'needn', 'until', 'into', 'to', 'they', 'off', 'had', 'with', 'll', 'same', \"shouldn't\", 'just', \"you've\", 'didn', 'any', 'after', 'ma', 'this', 'were', 'been', 'at', 'most', 'not', 'y', 'against', 'that', 'which', 'my', 'don', 'now', 'our', 'up', 'on', 'such', 'over', 'did', \"you're\", 'very', 'again', 'or', 'me', 's', 'through', 'will', 'what', 'then', 'an', 'herself', \"isn't\", \"shan't\", \"couldn't\", 'haven', \"wasn't\", 't', \"won't\", 'itself', 'and', 'more', \"hasn't\", 'why', 'both', 'than', 'can', 'hadn', 'shouldn', 'should', \"it's\", 'yourselves', 'so', 'whom', 'being', \"hadn't\", 'yourself', 'wouldn', 'm', 'theirs', 'before', 'his', 'has', 'during', 'o', \"you'll\", 'couldn', 'ourselves', 'was', 'as', 'other', \"mustn't\", 'about', 'here', 'some', 'between', 'it', 'himself', 'having', 'her', 'are', 'because', 'myself', 'by', 'each', 'from', \"aren't\", 'weren', 'won', 'own', 'no', 'its', 'd', 'down', \"doesn't\", 'yours', 'a', 'too', 'for', 'further', 'them', \"should've\", 'you', 'him', 'out', 'when', 'all', 'doing', \"wouldn't\", 'aren', 'doesn', 'their', 'be', 'there', 'is', 'he', 'ain', 'shan', \"mightn't\", 'isn', 'ours', 'but', 'below', 'wasn', 'am', 'where', 'in', \"haven't\", 'above', 'few', 'who', \"needn't\", 'i', 'if', \"didn't\", 'have', 'how', 'your', 've', 'does', 'these', 'we', 'do', 'of', 'hers', 'nor', \"don't\", 'the', 'under'}\n"
     ]
    }
   ],
   "source": [
    "stop_words = set(stopwords.words('english'))\n",
    "tokenized_sentences = sent_tokenize(text)\n",
    "tokenized_words = word_tokenize(text)"
   ]
  },
  {
   "cell_type": "code",
   "execution_count": 15,
   "metadata": {},
   "outputs": [],
   "source": [
    "def get_word_freq_dict():\n",
    "    result = {}\n",
    "    for word in tokenized_words:\n",
    "        lower_case_word = word.lower()\n",
    "        if lower_case_word not in stop_words:\n",
    "            if lower_case_word not in result.keys() or result[lower_case_word] is None:\n",
    "                result[lower_case_word] = 0\n",
    "            result[lower_case_word] += 1\n",
    "    return result\n",
    "\n",
    "def normalize_word_freq(word_freq):\n",
    "    normalized = {}\n",
    "    largest_count = max(word_freq.values())\n",
    "    for word, count in word_freq.items():\n",
    "        normalized[word] = count / largest_count\n",
    "    return normalized\n",
    "\n",
    "def get_word_scores():\n",
    "    word_freq_count = get_word_freq_dict()\n",
    "    return normalize_word_freq(word_freq_count)"
   ]
  },
  {
   "cell_type": "code",
   "execution_count": 16,
   "metadata": {},
   "outputs": [],
   "source": [
    "word_scores = get_word_scores()"
   ]
  },
  {
   "cell_type": "code",
   "execution_count": 18,
   "metadata": {},
   "outputs": [],
   "source": [
    "def get_sentence_scores():\n",
    "    sentence_scores = {}\n",
    "    for sentence in tokenized_sentences:\n",
    "        score = 0.0\n",
    "        for word in sentence.split():\n",
    "            # Stopwords are not counted\n",
    "            if word in word_scores:\n",
    "                score += word_scores[word]\n",
    "        sentence_scores[sentence] = score\n",
    "    return sentence_scores"
   ]
  },
  {
   "cell_type": "code",
   "execution_count": 19,
   "metadata": {},
   "outputs": [],
   "source": [
    "sentence_scores = get_sentence_scores()"
   ]
  },
  {
   "cell_type": "code",
   "execution_count": 20,
   "metadata": {},
   "outputs": [
    {
     "name": "stdout",
     "output_type": "stream",
     "text": [
      "After nearly three weeks of his absurd legal claims and corrosive attacks on democracy, a cascade of momentous developments Monday obliterated the President's fantasy that he would have a second term. The legally mandated transition will unblock millions of dollars in funding and compel the administration to grant access and briefings to the President-elect's incoming team. Yet even before Murphy's belated move, Biden had engineered a tangible shift in implied power from the current administration to the next, unveiling a slew of high-profile Cabinet appointments. Biden's choices, including longtime aide Antony Blinken as secretary of state, signaled that the President-elect plans an era of serious, unostentatious governance after years of Trump's dictates by tweets and a Cabinet assembled from appointees who can be relied upon to pay him homage. Trump offered his clearest indication yet that he understands his presidency is ending when he tweeted that he had told his team to do what is necessary \"with regards to initial protocols.\" Still, Trump's outrageous bid to disenfranchise the votes of millions of Americans is destined to fail because election officials and the courts in the states largely did their duty and rejected his baseless claims of fraud.\n"
     ]
    }
   ],
   "source": [
    "MIN_SCORE = 0.8\n",
    "def get_summary_sentences():\n",
    "    summary_sentences = []\n",
    "    for sentence in tokenized_sentences:\n",
    "        if sentence_scores[sentence] >= MIN_SCORE:\n",
    "            summary_sentences.append(sentence)\n",
    "    return summary_sentences\n",
    "\n",
    "result = get_summary_sentences()\n",
    "summary = \" \".join(result)\n",
    "print(summary)"
   ]
  },
  {
   "cell_type": "markdown",
   "metadata": {},
   "source": [
    "## Result Evaluation"
   ]
  },
  {
   "cell_type": "code",
   "execution_count": 22,
   "metadata": {},
   "outputs": [
    {
     "name": "stdout",
     "output_type": "stream",
     "text": [
      "Original text length: 2656\n",
      "Summary text length: 1273\n"
     ]
    }
   ],
   "source": [
    "print(\"Original text length:\", len(text))\n",
    "print(\"Summary text length:\", len(summary))"
   ]
  }
 ],
 "metadata": {
  "kernelspec": {
   "display_name": "Python 3",
   "language": "python",
   "name": "python3"
  },
  "language_info": {
   "codemirror_mode": {
    "name": "ipython",
    "version": 3
   },
   "file_extension": ".py",
   "mimetype": "text/x-python",
   "name": "python",
   "nbconvert_exporter": "python",
   "pygments_lexer": "ipython3",
   "version": "3.7.4"
  }
 },
 "nbformat": 4,
 "nbformat_minor": 2
}
